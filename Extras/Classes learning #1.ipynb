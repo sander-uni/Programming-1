{
 "cells": [
  {
   "cell_type": "code",
   "execution_count": null,
   "id": "2b808984-9e67-4b88-9934-c81a9bfc51a4",
   "metadata": {},
   "outputs": [],
   "source": [
    "class Test:\n",
    "    prop1 = 0\n",
    "\n",
    "    def method1():\n",
    "        print(\"good shit\")\n",
    "\n",
    "    def __init__(self):\n",
    "        self.prop1 = 3 % 5\n",
    "\n",
    "\n",
    "class Test2(Test):\n",
    "    def __init__(self):\n",
    "        super().__init__()\n",
    "\n",
    "\n",
    "obj1 = Test2()\n",
    "\n",
    "obj1 = Test2()\n",
    "print(obj1.prop1)\n"
   ]
  }
 ],
 "metadata": {
  "kernelspec": {
   "display_name": "Python 3 (ipykernel)",
   "language": "python",
   "name": "python3"
  },
  "language_info": {
   "codemirror_mode": {
    "name": "ipython",
    "version": 3
   },
   "file_extension": ".py",
   "mimetype": "text/x-python",
   "name": "python",
   "nbconvert_exporter": "python",
   "pygments_lexer": "ipython3",
   "version": "3.12.4"
  }
 },
 "nbformat": 4,
 "nbformat_minor": 5
}
