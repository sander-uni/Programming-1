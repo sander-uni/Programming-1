{
 "cells": [
  {
   "cell_type": "code",
   "execution_count": null,
   "id": "697f1e93-c2e3-4f4e-aee8-c59d6e685e6d",
   "metadata": {},
   "outputs": [],
   "source": [
    "import random # Imports the module random, which is part of the python standard library\n",
    "\t      # A module is a collection of functions and data, such as dictionaries, constant values\n",
    "\t      # random.randint is from the module random.\n",
    "\n",
    "import module_example # Module included in the submission\n",
    "\n",
    "\n",
    "# Student names : Grades score\n",
    "STUDENT_GRADES = { # Defines a dictionary with student first names linked to their grade score 0 - 100\n",
    "\t\t   # random.randint gives a random number between 0 - 100 inclusive\n",
    "\t\"Sander\": random.randint(0, 100),\n",
    "\t\"Hedda\": random.randint(0, 100),\n",
    "\t\"Vishanti\": random.randint(81, 100),\n",
    "\t\"Muhammed\": random.randint(0, 100),\n",
    "\t\"Angus\": random.randint(0, 100)\n",
    "}\n",
    "\n",
    "print(module_example.CONSTANT_FROM_MODULE) # Constant value from the module \"module_example\" imported above\n",
    "\n",
    "print(module_example.dictionary_from_module[\"key_3\"]) # Prints a value from the dictionary in the example module\n",
    "\n",
    "print(\"\\nAll grades: \") # \"\\n\" adds a new line. print(\"line1\\nline2\\nline3\\nline4\") -- Are printed as 4 separate lines.\n",
    "for name, grade_score in STUDENT_GRADES.items(): # Print all grades, mapped to student names\n",
    "\tprint(f\"{name}: {grade_score}\") # Example: Sander: 57\n",
    "\n",
    "print(\"\\nStudents who scored above 80: \")\n",
    "for name, grade_score in STUDENT_GRADES.items(): # Print all grades, mapped to student names\n",
    "\tif grade_score > 80:\n",
    "\t\tprint(f\"{name}: {grade_score}\") # Example: Angus 91\n",
    "\t\t\n"
   ]
  }
 ],
 "metadata": {
  "kernelspec": {
   "display_name": "Python 3 (ipykernel)",
   "language": "python",
   "name": "python3"
  },
  "language_info": {
   "codemirror_mode": {
    "name": "ipython",
    "version": 3
   },
   "file_extension": ".py",
   "mimetype": "text/x-python",
   "name": "python",
   "nbconvert_exporter": "python",
   "pygments_lexer": "ipython3",
   "version": "3.12.4"
  }
 },
 "nbformat": 4,
 "nbformat_minor": 5
}
