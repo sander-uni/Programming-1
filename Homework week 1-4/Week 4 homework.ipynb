{
 "cells": [
  {
   "cell_type": "code",
   "execution_count": null,
   "id": "29522c00-16a1-408d-a7ab-06a077d13fde",
   "metadata": {},
   "outputs": [],
   "source": [
    "def get_char_count(text): # Defines function with text parameter\n",
    "\tcharacter_count = {} \n",
    "\tfor char in text: # Goes through the text, character by character\n",
    "\t\tif char in character_count: # Is character mapped already inside the dictionary? \n",
    "\t\t\tcharacter_count[char] += 1 # Add 1 to count of that specific character\n",
    "\t\telse:\n",
    "\t\t\tcharacter_count[char] = 1 # Add new entry to the count dictionary\n",
    "\n",
    "\treturn character_count # Return the dictionary to the caller\n",
    "\n",
    "\n",
    "user_input = input(\"Type in anything you want.\")\n",
    "character_count = get_char_count(user_input) # Fetches the character count dictionary\n",
    "\n",
    "# Print the character frequencies\n",
    "print(\"\\nCharacter frequencies:\")\n",
    "for char, frequency in character_count.items():\n",
    "\tprint(f\"{char}: {frequency}\")\n"
   ]
  }
 ],
 "metadata": {
  "kernelspec": {
   "display_name": "Python 3 (ipykernel)",
   "language": "python",
   "name": "python3"
  },
  "language_info": {
   "codemirror_mode": {
    "name": "ipython",
    "version": 3
   },
   "file_extension": ".py",
   "mimetype": "text/x-python",
   "name": "python",
   "nbconvert_exporter": "python",
   "pygments_lexer": "ipython3",
   "version": "3.12.4"
  }
 },
 "nbformat": 4,
 "nbformat_minor": 5
}
