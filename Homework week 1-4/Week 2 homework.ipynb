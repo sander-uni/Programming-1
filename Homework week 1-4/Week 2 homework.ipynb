{
 "cells": [
  {
   "cell_type": "code",
   "execution_count": null,
   "id": "69261c51-24e8-4edb-bcab-7dd6b33977e0",
   "metadata": {},
   "outputs": [],
   "source": [
    "def countdown(start): # Defines function, with 1 parameter \"start\"\n",
    "\n",
    "\ti = start # Sets i to the number the variable \"start\" is storing.\n",
    "\t\t  # \"i\" is a common name for control variables. Can mean index, iterate etc.\n",
    "\t\t  # We don't want to modify the start variable, because we need the initial value later on.\n",
    "\n",
    "\twhile i > 0: # Each time, before the code below is executed, the condition \"i > 0\" is checked.\n",
    "\t\t     # If the condition is satisfied, the code executes. If not, the loop ends.\n",
    "\t\t     # If the condition is not satisfied the first time, the code is never executed.\n",
    "\t\t     # You can use a \"do while\" loop, to execute code once guaranteed before checking condition.\n",
    "\t\t     # The condition i > 0 means: The variable \"i\", who's storing a number, is larger than the number literal 0.\n",
    "\n",
    "\t\tprint(i)\n",
    "\t\ti -= 1 # Subtract the variable \"i\" by 1. Same as i = i - 1\n",
    "\n",
    "\t\tif i == start // 2: # \"//\" divides the number and then removes the fractional part (if there is one)\n",
    "\t\t\t\t    # 5 // 2 equals 2, because we ignore the fractional part of 2.5\n",
    "\t\t\t\t    # Is i equal to start divided by 2, ignoring the fractional part?\n",
    "\n",
    "\t\t\tprint(\"Halfway there!\") # Prints \"Halfway there!\" if the condition above is satisfied\n",
    "\n",
    "\tprint(\"We are done!\")\n",
    "\n",
    "countdown(20) # Calls function defined earlier\n",
    "\t      # Starts countdown at 20\n",
    "\t      # Called with argument 20\n",
    "\t      # Arguments are the actual values passed to the function's parameters\n"
   ]
  }
 ],
 "metadata": {
  "kernelspec": {
   "display_name": "Python 3 (ipykernel)",
   "language": "python",
   "name": "python3"
  },
  "language_info": {
   "codemirror_mode": {
    "name": "ipython",
    "version": 3
   },
   "file_extension": ".py",
   "mimetype": "text/x-python",
   "name": "python",
   "nbconvert_exporter": "python",
   "pygments_lexer": "ipython3",
   "version": "3.12.4"
  }
 },
 "nbformat": 4,
 "nbformat_minor": 5
}
