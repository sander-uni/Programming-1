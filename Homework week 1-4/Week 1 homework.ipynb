{
 "cells": [
  {
   "cell_type": "code",
   "execution_count": null,
   "id": "efe43c03-936a-41b0-9846-784018725710",
   "metadata": {},
   "outputs": [],
   "source": [
    "def sum(start, end): # Range -1000 to 1000\n",
    "\tassert start >= -10**3 and end <= 10**3 # Checks if the start is equal to or larger than -1000\n",
    "\t\t\t\t\t\t# and if end is equal to or smaller than 1000.\n",
    "\t\t\t\t\t\t# \"**\" means exponent. 10**6 == 10*10*10*10*10*10, or 1,000,000\n",
    "\tassert end >= start # Checks if the end of the range to sum is equal to or bigger than start of the range\n",
    "\ti = start\n",
    "\teven_sum = 0\n",
    "\todd_sum = 0\n",
    "\twhile i <= end: # Executes code below in a loop if the end variable is equal to or larger than the control variable i\n",
    "\t\tif i % 2 == 0:\n",
    "\t\t\teven_sum += i \n",
    "\t\telse:\n",
    "\t\t\todd_sum += i \n",
    "\t\ti += 1\n",
    "\treturn even_sum, odd_sum # Returns the sum of the odd numbers and even numbers to the caller\n",
    "\n",
    "even_sum, odd_sum = sum(1, 100) # Here's the caller of the function sum, defined earlier.\n",
    "print(f\"Even sum: {even_sum}\\nOdd sum: {odd_sum}\") # \"f\" converts string a format string.\n",
    "\n"
   ]
  }
 ],
 "metadata": {
  "kernelspec": {
   "display_name": "Python 3 (ipykernel)",
   "language": "python",
   "name": "python3"
  },
  "language_info": {
   "codemirror_mode": {
    "name": "ipython",
    "version": 3
   },
   "file_extension": ".py",
   "mimetype": "text/x-python",
   "name": "python",
   "nbconvert_exporter": "python",
   "pygments_lexer": "ipython3",
   "version": "3.12.4"
  }
 },
 "nbformat": 4,
 "nbformat_minor": 5
}
