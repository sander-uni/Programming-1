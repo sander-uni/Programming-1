{
 "cells": [
  {
   "cell_type": "code",
   "execution_count": null,
   "id": "885878ba-1917-4559-9587-a43d0280df0e",
   "metadata": {},
   "outputs": [],
   "source": [
    "def module_func():\n",
    "    print(\"I am from the module!\")\n",
    "\n",
    "\n",
    "dictionary_from_module = {  # Not capitalized, meant to be modified, not a constant.\n",
    "    \"key_1\": \"value\",\n",
    "    \"key_2\": \"value\",\n",
    "    \"key_3\": \"value\",\n",
    "    \"key_4\": \"value\",\n",
    "    \"key_5\": \"value\",\n",
    "    \"key_6\": \"value\"\n",
    "}\n",
    "\n",
    "CONSTANT_FROM_MODULE = \"I AM A CONSTANT AND MY VARIABLE NAME SHOULD BE CAPITALIZED.\"\n",
    "# A constant, shouldn't be modified.\n"
   ]
  }
 ],
 "metadata": {
  "kernelspec": {
   "display_name": "Python 3 (ipykernel)",
   "language": "python",
   "name": "python3"
  },
  "language_info": {
   "codemirror_mode": {
    "name": "ipython",
    "version": 3
   },
   "file_extension": ".py",
   "mimetype": "text/x-python",
   "name": "python",
   "nbconvert_exporter": "python",
   "pygments_lexer": "ipython3",
   "version": "3.12.4"
  }
 },
 "nbformat": 4,
 "nbformat_minor": 5
}
