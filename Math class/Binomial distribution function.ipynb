{
 "cells": [
  {
   "cell_type": "code",
   "execution_count": 15,
   "id": "53de0d3a-776c-4f7e-b8f3-4416de72f8a3",
   "metadata": {},
   "outputs": [
    {
     "name": "stdout",
     "output_type": "stream",
     "text": [
      "0.17619705200195312\n",
      "0.3125\n",
      "0.31249999999999983\n"
     ]
    }
   ],
   "source": [
    "# Complies with PEP-8\n",
    "\n",
    "import math\n",
    "from scipy.stats import binom\n",
    "\n",
    "\n",
    "#  @x Number of successful trials you desire\n",
    "#  @n Number of trials\n",
    "#  @p Probability of success (0-1)\n",
    "def binomial_dis(x: int, n: int, p: float):\n",
    "    assert n >= x, \"Number of trials must be equal or more than desired trials\"\n",
    "    q = 1 - p  # Probability of failure\n",
    "\n",
    "    result = math.factorial(n)\n",
    "    result /= math.factorial(n - x) * math.factorial(x)\n",
    "    result *= p**x * q**(n - x)\n",
    "    return result\n",
    "\n",
    "\n",
    "print(binomial_dis(10, 20, 0.5))  # test1\n",
    "print(binomial_dis(2, 5, 0.5))  # test2 coin flip\n",
    "print(binom.pmf(2, 5, 0.5))  # Verify my function works with official function"
   ]
  }
 ],
 "metadata": {
  "kernelspec": {
   "display_name": "Python 3 (ipykernel)",
   "language": "python",
   "name": "python3"
  },
  "language_info": {
   "codemirror_mode": {
    "name": "ipython",
    "version": 3
   },
   "file_extension": ".py",
   "mimetype": "text/x-python",
   "name": "python",
   "nbconvert_exporter": "python",
   "pygments_lexer": "ipython3",
   "version": "3.12.4"
  }
 },
 "nbformat": 4,
 "nbformat_minor": 5
}
