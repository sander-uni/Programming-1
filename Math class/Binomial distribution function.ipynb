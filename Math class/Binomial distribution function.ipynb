{
 "cells": [
  {
   "cell_type": "code",
   "execution_count": 14,
   "id": "53de0d3a-776c-4f7e-b8f3-4416de72f8a3",
   "metadata": {},
   "outputs": [
    {
     "name": "stdout",
     "output_type": "stream",
     "text": [
      "0.17619705200195312\n"
     ]
    },
    {
     "ename": "AssertionError",
     "evalue": "Number of trials must be equal or more than desired trials",
     "output_type": "error",
     "traceback": [
      "\u001b[1;31m---------------------------------------------------------------------------\u001b[0m",
      "\u001b[1;31mAssertionError\u001b[0m                            Traceback (most recent call last)",
      "Cell \u001b[1;32mIn[14], line 19\u001b[0m\n\u001b[0;32m     15\u001b[0m     \u001b[38;5;28;01mreturn\u001b[39;00m result\n\u001b[0;32m     18\u001b[0m \u001b[38;5;28mprint\u001b[39m(binomial_dis(\u001b[38;5;241m10\u001b[39m, \u001b[38;5;241m20\u001b[39m, \u001b[38;5;241m0.5\u001b[39m))  \u001b[38;5;66;03m# test1\u001b[39;00m\n\u001b[1;32m---> 19\u001b[0m \u001b[38;5;28mprint\u001b[39m(binomial_dis(\u001b[38;5;241m20\u001b[39m, \u001b[38;5;241m5\u001b[39m, \u001b[38;5;241m0.5\u001b[39m))  \u001b[38;5;66;03m# test2 coin flip\u001b[39;00m\n\u001b[0;32m     20\u001b[0m \u001b[38;5;28mprint\u001b[39m(binom\u001b[38;5;241m.\u001b[39mpmf(\u001b[38;5;241m2\u001b[39m, \u001b[38;5;241m5\u001b[39m, \u001b[38;5;241m0.5\u001b[39m))\n",
      "Cell \u001b[1;32mIn[14], line 9\u001b[0m, in \u001b[0;36mbinomial_dis\u001b[1;34m(x, n, p)\u001b[0m\n\u001b[0;32m      8\u001b[0m \u001b[38;5;28;01mdef\u001b[39;00m \u001b[38;5;21mbinomial_dis\u001b[39m(x: \u001b[38;5;28mint\u001b[39m, n: \u001b[38;5;28mint\u001b[39m, p: \u001b[38;5;28mfloat\u001b[39m):\n\u001b[1;32m----> 9\u001b[0m     \u001b[38;5;28;01massert\u001b[39;00m n \u001b[38;5;241m>\u001b[39m\u001b[38;5;241m=\u001b[39m x, \u001b[38;5;124m\"\u001b[39m\u001b[38;5;124mNumber of trials must be equal or more than desired trials\u001b[39m\u001b[38;5;124m\"\u001b[39m\n\u001b[0;32m     10\u001b[0m     q \u001b[38;5;241m=\u001b[39m \u001b[38;5;241m1\u001b[39m \u001b[38;5;241m-\u001b[39m p  \u001b[38;5;66;03m# Probability of failure\u001b[39;00m\n\u001b[0;32m     12\u001b[0m     result \u001b[38;5;241m=\u001b[39m math\u001b[38;5;241m.\u001b[39mfactorial(n)\n",
      "\u001b[1;31mAssertionError\u001b[0m: Number of trials must be equal or more than desired trials"
     ]
    }
   ],
   "source": [
    "# Complies with PEP-8\n",
    "\n",
    "import math\n",
    "from scipy.stats import binom\n",
    "\n",
    "\n",
    "#  @x Number of successful trials you desire\n",
    "#  @n Number of trials\n",
    "#  @p Probability of success (0-1)\n",
    "def binomial_dis(x: int, n: int, p: float):\n",
    "    assert n >= x, \"Number of trials must be equal or more than desired trials\"\n",
    "    q = 1 - p  # Probability of failure\n",
    "\n",
    "    result = math.factorial(n)\n",
    "    result /= math.factorial(n - x) * math.factorial(x)\n",
    "    result *= p**x * q**(n - x)\n",
    "    return result\n",
    "\n",
    "\n",
    "print(binomial_dis(10, 20, 0.5))  # test1\n",
    "print(binomial_dis(20, 5, 0.5))  # test2 coin flip\n",
    "print(binom.pmf(2, 5, 0.5))  # Verify my function works with official function"
   ]
  }
 ],
 "metadata": {
  "kernelspec": {
   "display_name": "Python 3 (ipykernel)",
   "language": "python",
   "name": "python3"
  },
  "language_info": {
   "codemirror_mode": {
    "name": "ipython",
    "version": 3
   },
   "file_extension": ".py",
   "mimetype": "text/x-python",
   "name": "python",
   "nbconvert_exporter": "python",
   "pygments_lexer": "ipython3",
   "version": "3.12.4"
  }
 },
 "nbformat": 4,
 "nbformat_minor": 5
}
