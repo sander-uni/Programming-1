{
 "cells": [
  {
   "cell_type": "code",
   "execution_count": 24,
   "id": "5faf102e-9dc2-436f-be5a-ac4241a2a114",
   "metadata": {},
   "outputs": [
    {
     "name": "stdout",
     "output_type": "stream",
     "text": [
      "DU MÅ INSTALLERE MATPLOTLIB FOR Å KJØRE DENNE KODEN!!!\n",
      "DU MÅ INSTALLERE MATPLOTLIB FOR Å KJØRE DENNE KODEN!!!\n",
      "DU MÅ INSTALLERE MATPLOTLIB FOR Å KJØRE DENNE KODEN!!!\n",
      "DU MÅ INSTALLERE MATPLOTLIB FOR Å KJØRE DENNE KODEN!!!\n",
      "DU MÅ INSTALLERE MATPLOTLIB FOR Å KJØRE DENNE KODEN!!!\n",
      "DU MÅ INSTALLERE MATPLOTLIB FOR Å KJØRE DENNE KODEN!!!\n",
      "DU MÅ INSTALLERE MATPLOTLIB FOR Å KJØRE DENNE KODEN!!!\n",
      "DU MÅ INSTALLERE MATPLOTLIB FOR Å KJØRE DENNE KODEN!!!\n",
      "DU MÅ INSTALLERE MATPLOTLIB FOR Å KJØRE DENNE KODEN!!!\n",
      "DU MÅ INSTALLERE MATPLOTLIB FOR Å KJØRE DENNE KODEN!!!\n"
     ]
    },
    {
     "ename": "ModuleNotFoundError",
     "evalue": "No module named 'matplotlsib'",
     "output_type": "error",
     "traceback": [
      "\u001b[1;31m---------------------------------------------------------------------------\u001b[0m",
      "\u001b[1;31mModuleNotFoundError\u001b[0m                       Traceback (most recent call last)",
      "Cell \u001b[1;32mIn[24], line 7\u001b[0m\n\u001b[0;32m      4\u001b[0m \u001b[38;5;28;01mimport\u001b[39;00m \u001b[38;5;21;01mrandom\u001b[39;00m\n\u001b[0;32m      6\u001b[0m \u001b[38;5;28;01mtry\u001b[39;00m:\n\u001b[1;32m----> 7\u001b[0m     \u001b[38;5;28;01mimport\u001b[39;00m \u001b[38;5;21;01mmatplotlsib\u001b[39;00m\u001b[38;5;21;01m.\u001b[39;00m\u001b[38;5;21;01mpyplot\u001b[39;00m \u001b[38;5;28;01mas\u001b[39;00m \u001b[38;5;21;01mplt\u001b[39;00m\n\u001b[0;32m      8\u001b[0m \u001b[38;5;28;01mexcept\u001b[39;00m \u001b[38;5;167;01mModuleNotFoundError\u001b[39;00m:\n\u001b[0;32m      9\u001b[0m     \u001b[38;5;28;01mfor\u001b[39;00m _ \u001b[38;5;129;01min\u001b[39;00m \u001b[38;5;28mrange\u001b[39m(\u001b[38;5;241m10\u001b[39m):\n",
      "\u001b[1;31mModuleNotFoundError\u001b[0m: No module named 'matplotlsib'"
     ]
    }
   ],
   "source": [
    "# Complies with PEP-8\n",
    "\n",
    "import math\n",
    "import random\n",
    "\n",
    "try:\n",
    "    import matplotlib.pyplot as plt\n",
    "except ModuleNotFoundError:\n",
    "    for _ in range(10):\n",
    "        print(\"DU MÅ INSTALLERE MATPLOTLIB FOR Å KJØRE DENNE KODEN!!!\")\n",
    "\n",
    "    raise\n",
    "\n",
    "\n",
    "#  @x Number of successful trials you desire\n",
    "#  @n Number of trials\n",
    "#  @p Probability of success (0-1)\n",
    "def binomial_dis(x: int, n: int, p: float):\n",
    "    assert n >= x, \"Number of trials must be equal or more than desired trials\"\n",
    "    q = 1 - p  # Probability of failure\n",
    "\n",
    "    result = math.factorial(n)\n",
    "    result /= math.factorial(n - x) * math.factorial(x)\n",
    "    result *= p**x * q**(n - x)\n",
    "\n",
    "    return result\n",
    "\n",
    "ROWS = 6\n",
    "COLS = 3\n",
    "figure, axes = plt.subplots(nrows=ROWS, ncols=COLS)\n",
    "\n",
    "for rows in range(0, ROWS):\n",
    "    for cols in range(0, COLS):\n",
    "        number_of_trials = random.randint(20, 300)\n",
    "        probability_of_success = random.randint(1, 1000) / 1000\n",
    "        where_to_start = random.randint(1, math.ceil(number_of_trials / 1.2))\n",
    "\n",
    "        data_x = range(number_of_trials)\n",
    "        data_y = [None] * number_of_trials\n",
    "        for desired_trials in range(where_to_start, number_of_trials):\n",
    "            data_y[desired_trials] = binomial_dis(\n",
    "                desired_trials,\n",
    "                number_of_trials,\n",
    "                probability_of_success\n",
    "            )\n",
    "\n",
    "        # axes[rows][cols].set_title(\"Binomial dis graph\")\n",
    "        # axes[rows][cols].set_xlabel(\"Trials\")\n",
    "        # axes[rows][cols].set_ylabel(\"Probability\")\n",
    "        axes[rows][cols].plot(data_x, data_y)\n",
    "\n",
    "plt.show()"
   ]
  }
 ],
 "metadata": {
  "kernelspec": {
   "display_name": "Python 3 (ipykernel)",
   "language": "python",
   "name": "python3"
  },
  "language_info": {
   "codemirror_mode": {
    "name": "ipython",
    "version": 3
   },
   "file_extension": ".py",
   "mimetype": "text/x-python",
   "name": "python",
   "nbconvert_exporter": "python",
   "pygments_lexer": "ipython3",
   "version": "3.12.4"
  }
 },
 "nbformat": 4,
 "nbformat_minor": 5
}
