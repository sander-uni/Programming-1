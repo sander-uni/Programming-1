{
 "cells": [
  {
   "cell_type": "code",
   "execution_count": null,
   "id": "72e8bfcb-e379-42d3-b24c-05dd6d22a56b",
   "metadata": {},
   "outputs": [
    {
     "name": "stdout",
     "output_type": "stream",
     "text": [
      "Type \"stop\" to end the program.\n",
      "Type \"printall\" to print entire database.\n"
     ]
    }
   ],
   "source": [
    "# The assignment task 1:\n",
    "# It appears you defined 1 dog year as 7 human years, but I'll do what it says\n",
    "import re\n",
    "\n",
    "DOG_YEARS_TO_HUMAN_RATIO = 7\n",
    "DOG_DATABASE = {\n",
    "    \"Max\": 5,\n",
    "    \"Bella\": 3,\n",
    "    \"Charlie\": 7,\n",
    "    \"Daisy\": 4,\n",
    "    \"Luna\": 6,\n",
    "    \"Rocky\": 2,\n",
    "    \"Molly\": 8,\n",
    "    \"Bailey\": 1,\n",
    "    \"Cooper\": 9,\n",
    "    \"Lucy\": 4\n",
    "}\n",
    "\n",
    "def dog_to_human_years(years): # In this reality, 1 dog year is 7 human years...\n",
    "    return years * DOG_YEARS_TO_HUMAN_RATIO\n",
    "\n",
    "# Sanitizes input\n",
    "# First character becomes upper case\n",
    "# Remaining characters becomes lower case\n",
    "def get_user_input():\n",
    "    while (True):\n",
    "        user_input = input(\"Type in the name of the dog you would like to know the age of: \")\n",
    "        if (re.match(r\"^[a-zA-Z]+$\", user_input)): # Checks if user_input only contains letters\n",
    "            first_char = user_input[0]\n",
    "            first_char = first_char.upper()\n",
    "            user_input = user_input[1:].lower()\n",
    "            return first_char + user_input \n",
    "        else:\n",
    "            print(\"Please type a name with only letters. Case insensitive.\")\n",
    "\n",
    "# User can query the database until they decide to stop\n",
    "print(\"Type \\\"stop\\\" to end the program.\")\n",
    "print(\"Type \\\"printall\\\" to print entire database.\")\n",
    "while (True):\n",
    "    result = get_user_input()\n",
    "    if (DOG_DATABASE.get(result) is not None):\n",
    "        print( \\\n",
    "            f\"The dog's name is {result}\\n\" \\\n",
    "            + f\"The dog's age in dog years is {DOG_DATABASE[result]}\\n\" \\\n",
    "            + f\"The dog's age in human years is {dog_to_human_years(DOG_DATABASE[result])}\\n\" \\\n",
    "        )\n",
    "    elif (result == \"Stop\"): # Typing \"stop\" always yields Stop, no matter the capitalization\n",
    "        print(\"Program stopped. Good day!\")\n",
    "        break\n",
    "    elif (result == \"Printall\"):\n",
    "        print(\"Database queries:\")\n",
    "        for dog_name, age in DOG_DATABASE.items():\n",
    "            print(f\"{dog_name}: {age}\")\n",
    "        print(\"=============\")\n",
    "    else:\n",
    "        print(f\"There is no dog named \\\"{result}\\\" in the database.\")\n"
   ]
  }
 ],
 "metadata": {
  "kernelspec": {
   "display_name": "Python 3 (ipykernel)",
   "language": "python",
   "name": "python3"
  },
  "language_info": {
   "codemirror_mode": {
    "name": "ipython",
    "version": 3
   },
   "file_extension": ".py",
   "mimetype": "text/x-python",
   "name": "python",
   "nbconvert_exporter": "python",
   "pygments_lexer": "ipython3",
   "version": "3.12.4"
  }
 },
 "nbformat": 4,
 "nbformat_minor": 5
}
